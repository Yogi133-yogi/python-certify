{
 "cells": [
  {
   "cell_type": "code",
   "execution_count": 8,
   "metadata": {},
   "outputs": [],
   "source": [
    "class arithmatical:\n",
    "    def __init__(self,a,b):\n",
    "       self.a = a\n",
    "       self.b = b\n",
    "       def addition(self):\n",
    "          result= self.a+self.b\n",
    "          print(result) \n",
    "          def subtraction(self):\n",
    "             if self.a>self.b:\n",
    "                result =self.a-self.b\n",
    "                return result\n",
    "             else :\n",
    "                print(f\"{self.a} is smaller than {self.b}\")\n",
    "                def multiplication(self,c,d):\n",
    "                   return c*d\n",
    "  \n",
    "  \n",
    "         \n",
    "\n",
    "    \n",
    "            \n",
    "        \n",
    " \n",
    "\n",
    "\n",
    "            \n"
   ]
  },
  {
   "cell_type": "code",
   "execution_count": null,
   "metadata": {},
   "outputs": [],
   "source": []
  }
 ],
 "metadata": {
  "kernelspec": {
   "display_name": "base",
   "language": "python",
   "name": "python3"
  },
  "language_info": {
   "codemirror_mode": {
    "name": "ipython",
    "version": 3
   },
   "file_extension": ".py",
   "mimetype": "text/x-python",
   "name": "python",
   "nbconvert_exporter": "python",
   "pygments_lexer": "ipython3",
   "version": "3.12.4"
  }
 },
 "nbformat": 4,
 "nbformat_minor": 2
}
